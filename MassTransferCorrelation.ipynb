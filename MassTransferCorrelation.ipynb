{
 "cells": [
  {
   "cell_type": "code",
   "execution_count": 1,
   "metadata": {},
   "outputs": [
    {
     "name": "stdout",
     "output_type": "stream",
     "text": [
      "Grashof number: 7.32e+11\n",
      "Rayleigh number: 4.99e+11\n",
      "Schmidt number: 6.82e-01\n",
      "Prandtl number: 6.83e-01\n",
      "Sherwood number: 877.80\n",
      "Mass transfer coefficient: 0.00214573 m/s\n",
      "Nusselt number: 878.08\n",
      "Heat transfer coefficient: 2.59 W/(m^2·K)\n"
     ]
    }
   ],
   "source": [
    "import numpy as np\n",
    "\n",
    "mu = 1.8e-5       # Dynamic viscosity of air (kg/(m·s))\n",
    "rho = 1.2         # Density of air (kg/m^3)\n",
    "g = 9.81          # Gravity (m/s^2)   \n",
    "R_v = 461.5       # Specific gas constant for water vapor (J/kg·K)\n",
    "k = 0.0265        # Thermal conductivity of air (W/(m·K))\n",
    "L_v = 2.26e6      # Latent heat of vaporization (J/kg)\n",
    "L = 9             # Characteristic length (m)\n",
    "D = 2.2e-5        # Diffusion coefficient of water vapor in air (m^2/s)\n",
    "c_p = 1006        # Specific heat capacity of air (J/(kg·K))\n",
    "\n",
    "T_b_C = 30       # Panel Temp (C)\n",
    "T_inf_C = 10     # Ambient temperature (C)\n",
    "T_b = T_b_C + 273.15  \n",
    "T_inf = T_inf_C + 273.15  \n",
    "\n",
    "# Clausius-Clapeyron\n",
    "def e_s(T):\n",
    "    T0 = 373.15  # Reference temperature (K)\n",
    "    P0 = 101325  # Reference pressure (Pa)\n",
    "    return P0 * np.exp(L_v / R_v * (1/T0 - 1/T))\n",
    "\n",
    "e_inf = e_s(T_inf)\n",
    "e_b = e_s(T_b)\n",
    "\n",
    "# Vapor densities\n",
    "rho_v_b = e_b / (R_v * T_b)  \n",
    "rho_v_inf = e_inf / (R_v * T_inf) \n",
    "\n",
    "# Kinematic viscosity of air\n",
    "nu = mu / rho  # (m^2/s)\n",
    "\n",
    "# Grashof number for mass transfer\n",
    "Gr = g * (rho_v_b - rho_v_inf) * L**3 / (nu**2)\n",
    "\n",
    "# Schmidt number\n",
    "Sc = nu / D  \n",
    "\n",
    "# Rayleigh number\n",
    "Ra = Gr * Sc\n",
    "\n",
    "# New Sherwood number function (Equation 9.26 Equivalent)\n",
    "def Sherwood_number(Ra, Sc):\n",
    "    term1 = (0.492 / Sc)**(9/16)\n",
    "    term2 = (1 + term1)**(8/27)\n",
    "    Sh = (0.825 + (0.387 * Ra**(1/6)) / term2) ** 2\n",
    "    return Sh\n",
    "\n",
    "# Calculate Sherwood number\n",
    "Sh = Sherwood_number(Ra, Sc)\n",
    "\n",
    "# Mass transfer coefficient\n",
    "h_m = Sh * D / L\n",
    "\n",
    "# Prandtl number (for heat transfer)\n",
    "Pr = (c_p * mu) / k   \n",
    "\n",
    "Nu = Sherwood_number(Ra, Pr) \n",
    "\n",
    "# Heat transfer coefficient\n",
    "h = (Nu * k) / L\n",
    "\n",
    "print(f'Grashof number: {Gr:.2e}')\n",
    "print(f'Rayleigh number: {Ra:.2e}')\n",
    "print(f'Schmidt number: {Sc:.2e}')\n",
    "print(f'Prandtl number: {Pr:.2e}')\n",
    "print(f'Sherwood number: {Sh:.2f}')\n",
    "print(f'Mass transfer coefficient: {h_m:.8f} m/s')\n",
    "print(f'Nusselt number: {Nu:.2f}')\n",
    "print(f'Heat transfer coefficient: {h:.2f} W/(m^2·K)')\n"
   ]
  },
  {
   "cell_type": "code",
   "execution_count": 2,
   "metadata": {},
   "outputs": [
    {
     "name": "stdout",
     "output_type": "stream",
     "text": [
      "Sherwood number for box: 364.80\n",
      "Mass transfer coefficient for box: 0.00089173 m/s\n"
     ]
    }
   ],
   "source": [
    "# correlation for box in Incropera 9.5\n",
    "\n",
    "Sh_box = 0.046 * Ra**(1/3)\n",
    "\n",
    "print(f'Sherwood number for box: {Sh_box:.2f}')\n",
    "\n",
    "h_m_box = Sh_box * D / L\n",
    "\n",
    "print(f'Mass transfer coefficient for box: {h_m_box:.8f} m/s')\n"
   ]
  }
 ],
 "metadata": {
  "kernelspec": {
   "display_name": "Evaporatingfilm",
   "language": "python",
   "name": "python3"
  },
  "language_info": {
   "codemirror_mode": {
    "name": "ipython",
    "version": 3
   },
   "file_extension": ".py",
   "mimetype": "text/x-python",
   "name": "python",
   "nbconvert_exporter": "python",
   "pygments_lexer": "ipython3",
   "version": "3.12.4"
  }
 },
 "nbformat": 4,
 "nbformat_minor": 2
}
