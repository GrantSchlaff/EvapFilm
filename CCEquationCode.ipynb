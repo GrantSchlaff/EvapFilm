{
 "cells": [
  {
   "cell_type": "code",
   "execution_count": null,
   "metadata": {},
   "outputs": [],
   "source": [
    "# function for calculating saturation vapor pressure\n",
    "def saturation_vapor_pressure(T_celsius):\n",
    "    T_kelvin = T_celsius + 273.15\n",
    "    return e_0 * np.exp((L_v / R_v) * (1 / T_0 - 1 / T_kelvin))"
   ]
  }
 ],
 "metadata": {
  "kernelspec": {
   "display_name": "Evaporatingfilm",
   "language": "python",
   "name": "python3"
  },
  "language_info": {
   "name": "python",
   "version": "3.12.4"
  }
 },
 "nbformat": 4,
 "nbformat_minor": 2
}
