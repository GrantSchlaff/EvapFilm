{
 "cells": [
  {
   "cell_type": "code",
   "execution_count": 6,
   "metadata": {},
   "outputs": [
    {
     "name": "stdout",
     "output_type": "stream",
     "text": [
      "55 55\n",
      "55 55\n"
     ]
    }
   ],
   "source": [
    "import numpy as np\n",
    "import scipy.stats as stats\n",
    "import matplotlib.pyplot as plt\n",
    "\n",
    "# Given data\n",
    "t = np.array([200.0, 200.0, 200.0, 240.0, 400.0, 150.0, 483.4, 233.4, 333.4, 233.4, 716.8, 250.0, \n",
    "              316.7, 316.7, 333.4, 733.5, 866.84, 400.1, 266.7, 383.4, 500.1, 250.0, 216.7, 133.36, \n",
    "              400.1, 400.1, 566.8, 766.8, 416.8, 416.8, 183.37, 616.8, 400.1, 466.8, 333.4, 383.4, \n",
    "              416.75, 483.43, 300.1, 200.0, 416.8, 333.4, 433.4, 133.4, 333.4])\n",
    "\n",
    "z = np.array([7, 7, 8, 7, 25, 23, 30, 18, 24, 20, 37, 22, 13, 27, 25, 35, 30, 31, 17, 20, 25, \n",
    "              13, 15, 12, 22, 30, 17, 30, 23, 23, 15, 20, 20, 27, 23, 24, 26, 27, 25, 15, 22, \n",
    "              30, 25, 10, 28])\n",
    "\n",
    "# New data\n",
    "t_new = np.array([350.1, 350.1, 766.8, 616.8, 200.0, 516.8, 316.7, 700.2, 183.4, 266.7])\n",
    "z_new = np.array([33, 13, 17, 22, 27, 16, 15, 22, 30, 20])\n",
    "\n",
    "# Append new data to existing arrays\n",
    "t = np.append(t, t_new)\n",
    "z = np.append(z, z_new)\n",
    "\n",
    "# Confirm new length\n",
    "print(len(t), len(z))  # Should reflect the updated number of data points\n",
    "\n",
    "\n",
    "print(len(t), len(z))  # Confirming both arrays have the same length"
   ]
  },
  {
   "cell_type": "code",
   "execution_count": 7,
   "metadata": {},
   "outputs": [
    {
     "name": "stdout",
     "output_type": "stream",
     "text": [
      "Velocity: (6.37 ± 0.14) cm/s\n",
      "Delta: (1.871938e-04 ± 2.024485e-06) m\n",
      "Delta: (187.19 ± 2.02) µm\n"
     ]
    }
   ],
   "source": [
    "import math\n",
    "\n",
    "# uncertainties\n",
    "sigma_t = 1000 / 60  # 16.67 ms\n",
    "sigma_z = 2.5  # mm\n",
    "\n",
    "\n",
    "velocities = z / t  \n",
    "mean_velocity = np.mean(velocities)\n",
    "\n",
    "# error propagation for velocity\n",
    "sigma_velocity = np.sqrt(np.sum((velocities**2) * ((sigma_z / z)**2 + (sigma_t / t)**2))) / len(t)\n",
    "\n",
    "mean_velocity_cm_s = mean_velocity * 100\n",
    "sigma_velocity_cm_s = sigma_velocity * 100\n",
    "\n",
    "# Print velocity\n",
    "print(f\"Velocity: ({mean_velocity_cm_s:.2f} ± {sigma_velocity_cm_s:.2f}) cm/s\")\n",
    "\n",
    "# constants for delta calculation\n",
    "mu = 1.8e-3  # Pa·s \n",
    "rho = 1000   # kg/m³ \n",
    "g = 9.81     # m/s²\n",
    "\n",
    "# Function to calculate delta\n",
    "def calculate_delta(u):\n",
    "    return math.sqrt((3 * mu * u) / (rho * g))\n",
    "\n",
    "delta_result = calculate_delta(mean_velocity)\n",
    "\n",
    "# error propagation for delta\n",
    "sigma_delta = (0.5 * delta_result * (sigma_velocity / mean_velocity))\n",
    "\n",
    "delta_microns = delta_result * 1e6\n",
    "sigma_delta_microns = sigma_delta * 1e6\n",
    "\n",
    "print(f\"Delta: ({delta_result:.6e} ± {sigma_delta:.6e}) m\")\n",
    "\n",
    "print(f\"Delta: ({delta_microns:.2f} ± {sigma_delta_microns:.2f}) µm\")\n"
   ]
  },
  {
   "cell_type": "code",
   "execution_count": 8,
   "metadata": {},
   "outputs": [
    {
     "name": "stdout",
     "output_type": "stream",
     "text": [
      "Measurement 1: Δ = 1.388022e-04 ± 2.545190e-05 m\n",
      "Measurement 2: Δ = 1.388022e-04 ± 2.545190e-05 m\n",
      "Measurement 3: Δ = 1.483858e-04 ± 2.399549e-05 m\n",
      "Mean Uncertainty on a Single Measurement of Delta: 1.323237e-05 m\n",
      "Mean Uncertainty on a Single Measurement of Delta: 13.23 µm\n"
     ]
    }
   ],
   "source": [
    "\n",
    "# Compute individual uncertainties in velocity\n",
    "sigma_v_individual = velocities * np.sqrt((sigma_z / z)**2 + (sigma_t / t)**2)\n",
    "\n",
    "# Compute delta for each measurement\n",
    "delta_individual = np.sqrt((3 * mu * velocities) / (rho * g))\n",
    "\n",
    "# Compute uncertainty in delta for each measurement\n",
    "sigma_delta_individual = (0.5 * delta_individual) * (sigma_v_individual / velocities)\n",
    "\n",
    "\n",
    "for i in range(3):\n",
    "    print(f\"Measurement {i+1}: Δ = {delta_individual[i]:.6e} ± {sigma_delta_individual[i]:.6e} m\")\n",
    "\n",
    "# Compute the mean uncertainty of individual delta measurements\n",
    "mean_sigma_delta = np.mean(sigma_delta_individual)\n",
    "\n",
    "print(f\"Mean Uncertainty on a Single Measurement of Delta: {mean_sigma_delta:.6e} m\")\n",
    "print(f\"Mean Uncertainty on a Single Measurement of Delta: {mean_sigma_delta * 1e6:.2f} µm\")\n",
    "\n"
   ]
  },
  {
   "cell_type": "code",
   "execution_count": 9,
   "metadata": {},
   "outputs": [
    {
     "data": {
      "image/png": "[encoded data removed]",
      "text/plain": [
       "<Figure size 800x600 with 1 Axes>"
      ]
     },
     "metadata": {},
     "output_type": "display_data"
    }
   ],
   "source": [
    "import numpy as np\n",
    "import matplotlib.pyplot as plt\n",
    "\n",
    "# New data to be added as red boxes\n",
    "t_red = np.array([16.7, 16.7, 16.7, 16.7, 16.7, 16.7, 16.7, 16.7, 16.7, 16.7, 16.7])  \n",
    "z_red = np.array([10, 8, 11, 8, 10, 12, 8, 7, 10, 10, 9])\n",
    "\n",
    "# Append all data to the main dataset\n",
    "t = np.append(t, t_red)\n",
    "z = np.append(z, z_red)\n",
    "\n",
    "# Compute velocities and delta values for all data\n",
    "velocities = z / t\n",
    "delta_values = np.array([calculate_delta(v) for v in velocities]) * 1e6  # Convert to microns\n",
    "\n",
    "# Compute velocities and delta values for red-box data separately\n",
    "velocities_red = z_red / t_red\n",
    "delta_values_red = np.array([calculate_delta(v) for v in velocities_red]) * 1e6  # Convert to microns\n",
    "\n",
    "# Define different bin widths\n",
    "bin_width_main = 20  # µm\n",
    "bin_width_red = 20   # µm\n",
    "\n",
    "# Define different bin arrays\n",
    "bins_main = np.arange(0, max(delta_values) + bin_width_main, bin_width_main)\n",
    "bins_red = np.arange(0, max(delta_values_red) + bin_width_red, bin_width_red)\n",
    "\n",
    "# Plot histogram\n",
    "plt.figure(figsize=(8, 6))\n",
    "plt.hist(delta_values, bins=bins_main, density=False, alpha=0.5, color='blue', edgecolor='black', label='0.70 ml/s per m')\n",
    "plt.hist(delta_values_red, bins=bins_red, density=False, alpha=0.5, color='red', edgecolor='black', label='1.75 ml/s per m')\n",
    "\n",
    "# Set x-axis to start at 0\n",
    "plt.xlim(0, max(delta_values) + bin_width_main)  \n",
    "\n",
    "# Labels in microns\n",
    "plt.xlabel('Delta (µm)', fontsize=12)\n",
    "plt.ylabel('Count', fontsize=12)\n",
    "plt.grid(True)\n",
    "plt.title('Histogram of Delta Values', fontsize=14)\n",
    "plt.legend()\n",
    "plt.show()\n"
   ]
  }
 ],
 "metadata": {
  "kernelspec": {
   "display_name": "Evaporatingfilm",
   "language": "python",
   "name": "python3"
  },
  "language_info": {
   "codemirror_mode": {
    "name": "ipython",
    "version": 3
   },
   "file_extension": ".py",
   "mimetype": "text/x-python",
   "name": "python",
   "nbconvert_exporter": "python",
   "pygments_lexer": "ipython3",
   "version": "3.12.4"
  }
 },
 "nbformat": 4,
 "nbformat_minor": 2
}
